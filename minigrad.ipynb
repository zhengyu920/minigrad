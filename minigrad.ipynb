{
 "cells": [
  {
   "cell_type": "markdown",
   "metadata": {},
   "source": [
    "### This is a playground to experiment code"
   ]
  },
  {
   "cell_type": "code",
   "execution_count": 1,
   "metadata": {},
   "outputs": [],
   "source": [
    "import math\n",
    "import numpy as np\n",
    "import matplotlib.pyplot as plt\n",
    "from dot import viz\n",
    "import torch\n",
    "import random\n",
    "\n",
    "from typing import Union"
   ]
  },
  {
   "cell_type": "code",
   "execution_count": 2,
   "metadata": {},
   "outputs": [
    {
     "name": "stdout",
     "output_type": "stream",
     "text": [
      "55\n"
     ]
    }
   ],
   "source": [
    "a = 5\n",
    "b = 9\n",
    "c = 10\n",
    "\n",
    "y = a * b + c\n",
    "\n",
    "print(y)"
   ]
  },
  {
   "cell_type": "code",
   "execution_count": 709,
   "metadata": {},
   "outputs": [],
   "source": [
    "class Value:\n",
    "    # data should be simple numeric value (e.g. int or float)\n",
    "    def __init__(self, data, prevs=[], ops='', label=''):\n",
    "        self.data = data\n",
    "        self.prevs = prevs\n",
    "        self.ops = ops\n",
    "        self.grad = 0.0\n",
    "        self.label = label\n",
    "        self._backward = lambda: None\n",
    "\n",
    "    def __repr__(self):\n",
    "        return str(f'Value(data: {self.data})')\n",
    "\n",
    "    def __str__(self):\n",
    "        return self.__repr__()\n",
    "\n",
    "    def __add__(self, other):\n",
    "        other = other if isinstance(other, Value) else Value(other)\n",
    "        result = Value(self.data + other.data, [self, other], '+')\n",
    "\n",
    "        def add_backward():\n",
    "            self.grad += 1.0 * result.grad\n",
    "            other.grad += 1.0 * result.grad\n",
    "        result._backward = add_backward\n",
    "        return result\n",
    "\n",
    "    def __sub__(self, other):\n",
    "        other = other if isinstance(other, Value) else Value(other)\n",
    "        result = Value(self.data - other.data, [self, other], '-')\n",
    "\n",
    "        def sub_backward():\n",
    "            self.grad += 1.0 * result.grad\n",
    "            other.grad += -1.0 * result.grad\n",
    "        result._backward = sub_backward\n",
    "        return result\n",
    "\n",
    "    def __mul__(self, other):\n",
    "        other = other if isinstance(other, Value) else Value(other)\n",
    "        result = Value(self.data * other.data, [self, other], '*')\n",
    "\n",
    "        def mul_backward():\n",
    "            self.grad += other.data * result.grad\n",
    "            other.grad += self.data * result.grad\n",
    "        result._backward = mul_backward\n",
    "\n",
    "        return result\n",
    "\n",
    "    def __truediv__(self, other):\n",
    "        return self * other**-1\n",
    "        # other = other if isinstance(other, Value) else Value(other)\n",
    "        # result = Value(self.data / other.data, [self, other], '/')\n",
    "\n",
    "        # def truediv_backward():\n",
    "        #     self.grad += math.pow(other.data, -1) * result.grad\n",
    "        #     other.grad += -self.data * \\\n",
    "        #         math.pow(other.data, -2) * result.grad\n",
    "        # result._backward = truediv_backward\n",
    "\n",
    "        # return result\n",
    "\n",
    "    def __pow__(self, other, modulo=None):\n",
    "        other = other if isinstance(other, Value) else Value(other)\n",
    "        result = Value(math.pow(self.data, other.data), [self, other], '**')\n",
    "\n",
    "        def pow_backward():\n",
    "            self.grad += other.data * \\\n",
    "                math.pow(self.data, other.data - 1) * result.grad\n",
    "        result._backward = pow_backward\n",
    "\n",
    "        return result\n",
    "\n",
    "    def __radd__(self, other):\n",
    "        return Value(other) + self\n",
    "\n",
    "    def __rsub__(self, other):\n",
    "        return Value(other) - self\n",
    "\n",
    "    def __rmul__(self, other):\n",
    "        return Value(other) * self\n",
    "\n",
    "    def __rtruediv__(self, other):\n",
    "        return Value(other) / self\n",
    "\n",
    "    def __rpow__(self, other):\n",
    "        return Value(other) ** self\n",
    "\n",
    "    def _zero_grad(self):\n",
    "        self.grad = 0\n",
    "\n",
    "    def exp(self):\n",
    "        exp = math.exp(self.data)\n",
    "        result = Value(exp, [self], 'exp')\n",
    "\n",
    "        def exp_backward():\n",
    "            self.grad += exp * result.grad\n",
    "        result._backward = exp_backward\n",
    "\n",
    "        return result\n",
    "\n",
    "    def backward(self):\n",
    "        self.grad = 1.0\n",
    "        visited = set()\n",
    "        topo = []\n",
    "\n",
    "        def DFS(cur):\n",
    "            if cur in visited:\n",
    "                return\n",
    "            visited.add(cur)\n",
    "            for prev in cur.prevs:\n",
    "                DFS(prev)\n",
    "            topo.append(cur)\n",
    "\n",
    "        DFS(self)\n",
    "        for node in reversed(topo):\n",
    "            node._backward()\n",
    "\n",
    "    def id(self):\n",
    "        return str(id(self))"
   ]
  },
  {
   "cell_type": "code",
   "execution_count": 8,
   "metadata": {},
   "outputs": [
    {
     "name": "stdout",
     "output_type": "stream",
     "text": [
      "Value(data: 54.266666666666666)\n",
      "a.grad: 9.0\n",
      "b.grad: 5.0\n",
      "c.grad: 1.0\n",
      "e.grad: -0.06666666666666667\n",
      "f.grad: 0.04888888888888889\n"
     ]
    }
   ],
   "source": [
    "a = Value(5, label='a')\n",
    "b = Value(9, label='b')\n",
    "c = Value(10, label='c')\n",
    "e = Value(11, label='e')\n",
    "f = Value(15, label='f')\n",
    "d = a * b\n",
    "d.label = 'd'\n",
    "g = e / f\n",
    "g.label = 'g'\n",
    "y = d + c - g\n",
    "y.label = 'y'\n",
    "\n",
    "y.backward()\n",
    "\n",
    "print(y)\n",
    "print(f'a.grad: {a.grad}')\n",
    "print(f'b.grad: {b.grad}')\n",
    "print(f'c.grad: {c.grad}')\n",
    "print(f'e.grad: {e.grad}')\n",
    "print(f'f.grad: {f.grad}')"
   ]
  },
  {
   "cell_type": "code",
   "execution_count": 7,
   "metadata": {},
   "outputs": [
    {
     "name": "stdout",
     "output_type": "stream",
     "text": [
      "yt: 54.266666412353516\n",
      "at.grad: 9.0\n",
      "bt.grad: 5.0\n",
      "ct.grad: 1.0\n",
      "et.grad: -0.06666667014360428\n",
      "ft.grad: 0.04888888821005821\n"
     ]
    }
   ],
   "source": [
    "at = torch.tensor(5.0, requires_grad=True)\n",
    "bt = torch.tensor(9.0, requires_grad=True)\n",
    "ct = torch.tensor(10.0, requires_grad=True)\n",
    "et = torch.tensor(11.0, requires_grad=True)\n",
    "ft = torch.tensor(15.0, requires_grad=True)\n",
    "\n",
    "dt = at * bt\n",
    "yt = dt + ct - et / ft\n",
    "\n",
    "yt.backward()\n",
    "\n",
    "print(f'yt: {yt}')\n",
    "print(f'at.grad: {at.grad}')\n",
    "print(f'bt.grad: {bt.grad}')\n",
    "print(f'ct.grad: {ct.grad}')\n",
    "print(f'et.grad: {et.grad}')\n",
    "print(f'ft.grad: {ft.grad}')"
   ]
  },
  {
   "cell_type": "code",
   "execution_count": 9,
   "metadata": {},
   "outputs": [
    {
     "data": {
      "image/svg+xml": [
       "<?xml version=\"1.0\" encoding=\"UTF-8\" standalone=\"no\"?>\n",
       "<!DOCTYPE svg PUBLIC \"-//W3C//DTD SVG 1.1//EN\"\n",
       " \"http://www.w3.org/Graphics/SVG/1.1/DTD/svg11.dtd\">\n",
       "<!-- Generated by graphviz version 12.1.2 (20240928.0832)\n",
       " -->\n",
       "<!-- Pages: 1 -->\n",
       "<svg width=\"1121pt\" height=\"480pt\"\n",
       " viewBox=\"0.00 0.00 1120.88 480.00\" xmlns=\"http://www.w3.org/2000/svg\" xmlns:xlink=\"http://www.w3.org/1999/xlink\">\n",
       "<g id=\"graph0\" class=\"graph\" transform=\"scale(1 1) rotate(0) translate(4 476)\">\n",
       "<polygon fill=\"white\" stroke=\"none\" points=\"-4,4 -4,-476 1116.88,-476 1116.88,4 -4,4\"/>\n",
       "<!-- 6209076240 -->\n",
       "<g id=\"node1\" class=\"node\">\n",
       "<title>6209076240</title>\n",
       "<polygon fill=\"none\" stroke=\"black\" points=\"376.75,-435.5 376.75,-471.5 668.5,-471.5 668.5,-435.5 376.75,-435.5\"/>\n",
       "<text text-anchor=\"middle\" x=\"388.12\" y=\"-448.45\" font-family=\"Times,serif\" font-size=\"14.00\">y</text>\n",
       "<polyline fill=\"none\" stroke=\"black\" points=\"399.5,-435.5 399.5,-471.5\"/>\n",
       "<text text-anchor=\"middle\" x=\"501.62\" y=\"-448.45\" font-family=\"Times,serif\" font-size=\"14.00\">Value(data: 54.266666666666666)</text>\n",
       "<polyline fill=\"none\" stroke=\"black\" points=\"603.75,-435.5 603.75,-471.5\"/>\n",
       "<text text-anchor=\"middle\" x=\"636.12\" y=\"-448.45\" font-family=\"Times,serif\" font-size=\"14.00\">grad: 1.0</text>\n",
       "</g>\n",
       "<!-- 6209076240_&#45; -->\n",
       "<g id=\"node2\" class=\"node\">\n",
       "<title>6209076240_&#45;</title>\n",
       "<ellipse fill=\"none\" stroke=\"black\" cx=\"522.62\" cy=\"-381\" rx=\"27\" ry=\"18\"/>\n",
       "<text text-anchor=\"middle\" x=\"522.62\" y=\"-375.95\" font-family=\"Times,serif\" font-size=\"14.00\">&#45;</text>\n",
       "</g>\n",
       "<!-- 6209076240_&#45;&#45;&gt;6209076240 -->\n",
       "<g id=\"edge1\" class=\"edge\">\n",
       "<title>6209076240_&#45;&#45;&gt;6209076240</title>\n",
       "<path fill=\"none\" stroke=\"black\" d=\"M522.62,-399.43C522.62,-406.77 522.62,-415.51 522.62,-423.76\"/>\n",
       "<polygon fill=\"black\" stroke=\"black\" points=\"519.13,-423.76 522.63,-433.76 526.13,-423.76 519.13,-423.76\"/>\n",
       "</g>\n",
       "<!-- 6209075520 -->\n",
       "<g id=\"node3\" class=\"node\">\n",
       "<title>6209075520</title>\n",
       "<polygon fill=\"none\" stroke=\"black\" points=\"301.75,-290.5 301.75,-326.5 485.5,-326.5 485.5,-290.5 301.75,-290.5\"/>\n",
       "<text text-anchor=\"middle\" x=\"311.62\" y=\"-303.45\" font-family=\"Times,serif\" font-size=\"14.00\"> </text>\n",
       "<polyline fill=\"none\" stroke=\"black\" points=\"321.5,-290.5 321.5,-326.5\"/>\n",
       "<text text-anchor=\"middle\" x=\"371.12\" y=\"-303.45\" font-family=\"Times,serif\" font-size=\"14.00\">Value(data: 55)</text>\n",
       "<polyline fill=\"none\" stroke=\"black\" points=\"420.75,-290.5 420.75,-326.5\"/>\n",
       "<text text-anchor=\"middle\" x=\"453.12\" y=\"-303.45\" font-family=\"Times,serif\" font-size=\"14.00\">grad: 1.0</text>\n",
       "</g>\n",
       "<!-- 6209075520&#45;&gt;6209076240_&#45; -->\n",
       "<g id=\"edge5\" class=\"edge\">\n",
       "<title>6209075520&#45;&gt;6209076240_&#45;</title>\n",
       "<path fill=\"none\" stroke=\"black\" d=\"M425.51,-326.93C445.97,-338.11 472.37,-352.53 492.48,-363.52\"/>\n",
       "<polygon fill=\"black\" stroke=\"black\" points=\"490.57,-366.47 501.03,-368.2 493.93,-360.33 490.57,-366.47\"/>\n",
       "</g>\n",
       "<!-- 6209075520_+ -->\n",
       "<g id=\"node4\" class=\"node\">\n",
       "<title>6209075520_+</title>\n",
       "<ellipse fill=\"none\" stroke=\"black\" cx=\"392.62\" cy=\"-236\" rx=\"27\" ry=\"18\"/>\n",
       "<text text-anchor=\"middle\" x=\"392.62\" y=\"-230.95\" font-family=\"Times,serif\" font-size=\"14.00\">+</text>\n",
       "</g>\n",
       "<!-- 6209075520_+&#45;&gt;6209075520 -->\n",
       "<g id=\"edge2\" class=\"edge\">\n",
       "<title>6209075520_+&#45;&gt;6209075520</title>\n",
       "<path fill=\"none\" stroke=\"black\" d=\"M392.87,-254.43C392.98,-261.85 393.1,-270.71 393.22,-279.05\"/>\n",
       "<polygon fill=\"black\" stroke=\"black\" points=\"389.72,-278.81 393.36,-288.76 396.72,-278.71 389.72,-278.81\"/>\n",
       "</g>\n",
       "<!-- 5440224944 -->\n",
       "<g id=\"node5\" class=\"node\">\n",
       "<title>5440224944</title>\n",
       "<polygon fill=\"none\" stroke=\"black\" points=\"95.25,-145.5 95.25,-181.5 282,-181.5 282,-145.5 95.25,-145.5\"/>\n",
       "<text text-anchor=\"middle\" x=\"106.62\" y=\"-158.45\" font-family=\"Times,serif\" font-size=\"14.00\">d</text>\n",
       "<polyline fill=\"none\" stroke=\"black\" points=\"118,-145.5 118,-181.5\"/>\n",
       "<text text-anchor=\"middle\" x=\"167.62\" y=\"-158.45\" font-family=\"Times,serif\" font-size=\"14.00\">Value(data: 45)</text>\n",
       "<polyline fill=\"none\" stroke=\"black\" points=\"217.25,-145.5 217.25,-181.5\"/>\n",
       "<text text-anchor=\"middle\" x=\"249.62\" y=\"-158.45\" font-family=\"Times,serif\" font-size=\"14.00\">grad: 1.0</text>\n",
       "</g>\n",
       "<!-- 5440224944&#45;&gt;6209075520_+ -->\n",
       "<g id=\"edge6\" class=\"edge\">\n",
       "<title>5440224944&#45;&gt;6209075520_+</title>\n",
       "<path fill=\"none\" stroke=\"black\" d=\"M239.05,-181.93C276.1,-194.73 325.46,-211.79 358.1,-223.07\"/>\n",
       "<polygon fill=\"black\" stroke=\"black\" points=\"356.88,-226.35 367.47,-226.31 359.17,-219.73 356.88,-226.35\"/>\n",
       "</g>\n",
       "<!-- 5440224944_* -->\n",
       "<g id=\"node6\" class=\"node\">\n",
       "<title>5440224944_*</title>\n",
       "<ellipse fill=\"none\" stroke=\"black\" cx=\"188.62\" cy=\"-91\" rx=\"27\" ry=\"18\"/>\n",
       "<text text-anchor=\"middle\" x=\"188.62\" y=\"-85.95\" font-family=\"Times,serif\" font-size=\"14.00\">*</text>\n",
       "</g>\n",
       "<!-- 5440224944_*&#45;&gt;5440224944 -->\n",
       "<g id=\"edge3\" class=\"edge\">\n",
       "<title>5440224944_*&#45;&gt;5440224944</title>\n",
       "<path fill=\"none\" stroke=\"black\" d=\"M188.62,-109.43C188.62,-116.77 188.62,-125.51 188.62,-133.76\"/>\n",
       "<polygon fill=\"black\" stroke=\"black\" points=\"185.13,-133.76 188.63,-143.76 192.13,-133.76 185.13,-133.76\"/>\n",
       "</g>\n",
       "<!-- 5440224896 -->\n",
       "<g id=\"node7\" class=\"node\">\n",
       "<title>5440224896</title>\n",
       "<polygon fill=\"none\" stroke=\"black\" points=\"0,-0.5 0,-36.5 179.25,-36.5 179.25,-0.5 0,-0.5\"/>\n",
       "<text text-anchor=\"middle\" x=\"11\" y=\"-13.45\" font-family=\"Times,serif\" font-size=\"14.00\">a</text>\n",
       "<polyline fill=\"none\" stroke=\"black\" points=\"22,-0.5 22,-36.5\"/>\n",
       "<text text-anchor=\"middle\" x=\"68.25\" y=\"-13.45\" font-family=\"Times,serif\" font-size=\"14.00\">Value(data: 5)</text>\n",
       "<polyline fill=\"none\" stroke=\"black\" points=\"114.5,-0.5 114.5,-36.5\"/>\n",
       "<text text-anchor=\"middle\" x=\"146.88\" y=\"-13.45\" font-family=\"Times,serif\" font-size=\"14.00\">grad: 9.0</text>\n",
       "</g>\n",
       "<!-- 5440224896&#45;&gt;5440224944_* -->\n",
       "<g id=\"edge7\" class=\"edge\">\n",
       "<title>5440224896&#45;&gt;5440224944_*</title>\n",
       "<path fill=\"none\" stroke=\"black\" d=\"M114.1,-36.93C128.47,-47.16 146.66,-60.12 161.48,-70.67\"/>\n",
       "<polygon fill=\"black\" stroke=\"black\" points=\"159.24,-73.37 169.42,-76.32 163.3,-67.67 159.24,-73.37\"/>\n",
       "</g>\n",
       "<!-- 5440224560 -->\n",
       "<g id=\"node8\" class=\"node\">\n",
       "<title>5440224560</title>\n",
       "<polygon fill=\"none\" stroke=\"black\" points=\"197.62,-0.5 197.62,-36.5 377.62,-36.5 377.62,-0.5 197.62,-0.5\"/>\n",
       "<text text-anchor=\"middle\" x=\"209\" y=\"-13.45\" font-family=\"Times,serif\" font-size=\"14.00\">b</text>\n",
       "<polyline fill=\"none\" stroke=\"black\" points=\"220.38,-0.5 220.38,-36.5\"/>\n",
       "<text text-anchor=\"middle\" x=\"266.62\" y=\"-13.45\" font-family=\"Times,serif\" font-size=\"14.00\">Value(data: 9)</text>\n",
       "<polyline fill=\"none\" stroke=\"black\" points=\"312.88,-0.5 312.88,-36.5\"/>\n",
       "<text text-anchor=\"middle\" x=\"345.25\" y=\"-13.45\" font-family=\"Times,serif\" font-size=\"14.00\">grad: 5.0</text>\n",
       "</g>\n",
       "<!-- 5440224560&#45;&gt;5440224944_* -->\n",
       "<g id=\"edge8\" class=\"edge\">\n",
       "<title>5440224560&#45;&gt;5440224944_*</title>\n",
       "<path fill=\"none\" stroke=\"black\" d=\"M263.15,-36.93C248.78,-47.16 230.59,-60.12 215.77,-70.67\"/>\n",
       "<polygon fill=\"black\" stroke=\"black\" points=\"213.95,-67.67 207.83,-76.32 218.01,-73.37 213.95,-67.67\"/>\n",
       "</g>\n",
       "<!-- 5440224176 -->\n",
       "<g id=\"node9\" class=\"node\">\n",
       "<title>5440224176</title>\n",
       "<polygon fill=\"none\" stroke=\"black\" points=\"299.62,-145.5 299.62,-181.5 485.62,-181.5 485.62,-145.5 299.62,-145.5\"/>\n",
       "<text text-anchor=\"middle\" x=\"310.62\" y=\"-158.45\" font-family=\"Times,serif\" font-size=\"14.00\">c</text>\n",
       "<polyline fill=\"none\" stroke=\"black\" points=\"321.62,-145.5 321.62,-181.5\"/>\n",
       "<text text-anchor=\"middle\" x=\"371.25\" y=\"-158.45\" font-family=\"Times,serif\" font-size=\"14.00\">Value(data: 10)</text>\n",
       "<polyline fill=\"none\" stroke=\"black\" points=\"420.88,-145.5 420.88,-181.5\"/>\n",
       "<text text-anchor=\"middle\" x=\"453.25\" y=\"-158.45\" font-family=\"Times,serif\" font-size=\"14.00\">grad: 1.0</text>\n",
       "</g>\n",
       "<!-- 5440224176&#45;&gt;6209075520_+ -->\n",
       "<g id=\"edge9\" class=\"edge\">\n",
       "<title>5440224176&#45;&gt;6209075520_+</title>\n",
       "<path fill=\"none\" stroke=\"black\" d=\"M392.62,-181.93C392.62,-189.27 392.62,-198.01 392.62,-206.26\"/>\n",
       "<polygon fill=\"black\" stroke=\"black\" points=\"389.13,-206.26 392.63,-216.26 396.13,-206.26 389.13,-206.26\"/>\n",
       "</g>\n",
       "<!-- 5440223840 -->\n",
       "<g id=\"node10\" class=\"node\">\n",
       "<title>5440223840</title>\n",
       "<polygon fill=\"none\" stroke=\"black\" points=\"504.5,-290.5 504.5,-326.5 800.75,-326.5 800.75,-290.5 504.5,-290.5\"/>\n",
       "<text text-anchor=\"middle\" x=\"515.88\" y=\"-303.45\" font-family=\"Times,serif\" font-size=\"14.00\">g</text>\n",
       "<polyline fill=\"none\" stroke=\"black\" points=\"527.25,-290.5 527.25,-326.5\"/>\n",
       "<text text-anchor=\"middle\" x=\"629.38\" y=\"-303.45\" font-family=\"Times,serif\" font-size=\"14.00\">Value(data: 0.7333333333333333)</text>\n",
       "<polyline fill=\"none\" stroke=\"black\" points=\"731.5,-290.5 731.5,-326.5\"/>\n",
       "<text text-anchor=\"middle\" x=\"766.12\" y=\"-303.45\" font-family=\"Times,serif\" font-size=\"14.00\">grad: &#45;1.0</text>\n",
       "</g>\n",
       "<!-- 5440223840&#45;&gt;6209076240_&#45; -->\n",
       "<g id=\"edge10\" class=\"edge\">\n",
       "<title>5440223840&#45;&gt;6209076240_&#45;</title>\n",
       "<path fill=\"none\" stroke=\"black\" d=\"M620.49,-326.93C599.87,-338.11 573.27,-352.53 553.01,-363.52\"/>\n",
       "<polygon fill=\"black\" stroke=\"black\" points=\"551.5,-360.36 544.38,-368.2 554.84,-366.51 551.5,-360.36\"/>\n",
       "</g>\n",
       "<!-- 5440223840_/ -->\n",
       "<g id=\"node11\" class=\"node\">\n",
       "<title>5440223840_/</title>\n",
       "<ellipse fill=\"none\" stroke=\"black\" cx=\"652.62\" cy=\"-236\" rx=\"27\" ry=\"18\"/>\n",
       "<text text-anchor=\"middle\" x=\"652.62\" y=\"-230.95\" font-family=\"Times,serif\" font-size=\"14.00\">/</text>\n",
       "</g>\n",
       "<!-- 5440223840_/&#45;&gt;5440223840 -->\n",
       "<g id=\"edge4\" class=\"edge\">\n",
       "<title>5440223840_/&#45;&gt;5440223840</title>\n",
       "<path fill=\"none\" stroke=\"black\" d=\"M652.62,-254.43C652.62,-261.77 652.62,-270.51 652.62,-278.76\"/>\n",
       "<polygon fill=\"black\" stroke=\"black\" points=\"649.13,-278.76 652.63,-288.76 656.13,-278.76 649.13,-278.76\"/>\n",
       "</g>\n",
       "<!-- 5440224752 -->\n",
       "<g id=\"node12\" class=\"node\">\n",
       "<title>5440224752</title>\n",
       "<polygon fill=\"none\" stroke=\"black\" points=\"503.38,-145.5 503.38,-181.5 801.88,-181.5 801.88,-145.5 503.38,-145.5\"/>\n",
       "<text text-anchor=\"middle\" x=\"514.38\" y=\"-158.45\" font-family=\"Times,serif\" font-size=\"14.00\">e</text>\n",
       "<polyline fill=\"none\" stroke=\"black\" points=\"525.38,-145.5 525.38,-181.5\"/>\n",
       "<text text-anchor=\"middle\" x=\"575\" y=\"-158.45\" font-family=\"Times,serif\" font-size=\"14.00\">Value(data: 11)</text>\n",
       "<polyline fill=\"none\" stroke=\"black\" points=\"624.62,-145.5 624.62,-181.5\"/>\n",
       "<text text-anchor=\"middle\" x=\"713.25\" y=\"-158.45\" font-family=\"Times,serif\" font-size=\"14.00\">grad: &#45;0.06666666666666667</text>\n",
       "</g>\n",
       "<!-- 5440224752&#45;&gt;5440223840_/ -->\n",
       "<g id=\"edge11\" class=\"edge\">\n",
       "<title>5440224752&#45;&gt;5440223840_/</title>\n",
       "<path fill=\"none\" stroke=\"black\" d=\"M652.62,-181.93C652.62,-189.27 652.62,-198.01 652.62,-206.26\"/>\n",
       "<polygon fill=\"black\" stroke=\"black\" points=\"649.13,-206.26 652.63,-216.26 656.13,-206.26 649.13,-206.26\"/>\n",
       "</g>\n",
       "<!-- 5440223936 -->\n",
       "<g id=\"node13\" class=\"node\">\n",
       "<title>5440223936</title>\n",
       "<polygon fill=\"none\" stroke=\"black\" points=\"820.38,-145.5 820.38,-181.5 1112.88,-181.5 1112.88,-145.5 820.38,-145.5\"/>\n",
       "<text text-anchor=\"middle\" x=\"830.62\" y=\"-158.45\" font-family=\"Times,serif\" font-size=\"14.00\">f</text>\n",
       "<polyline fill=\"none\" stroke=\"black\" points=\"840.88,-145.5 840.88,-181.5\"/>\n",
       "<text text-anchor=\"middle\" x=\"890.5\" y=\"-158.45\" font-family=\"Times,serif\" font-size=\"14.00\">Value(data: 15)</text>\n",
       "<polyline fill=\"none\" stroke=\"black\" points=\"940.12,-145.5 940.12,-181.5\"/>\n",
       "<text text-anchor=\"middle\" x=\"1026.5\" y=\"-158.45\" font-family=\"Times,serif\" font-size=\"14.00\">grad: 0.04888888888888889</text>\n",
       "</g>\n",
       "<!-- 5440223936&#45;&gt;5440223840_/ -->\n",
       "<g id=\"edge12\" class=\"edge\">\n",
       "<title>5440223936&#45;&gt;5440223840_/</title>\n",
       "<path fill=\"none\" stroke=\"black\" d=\"M889.01,-181.93C825.25,-196.24 737.8,-215.88 689.11,-226.81\"/>\n",
       "<polygon fill=\"black\" stroke=\"black\" points=\"688.36,-223.39 679.37,-228.99 689.9,-230.22 688.36,-223.39\"/>\n",
       "</g>\n",
       "</g>\n",
       "</svg>\n"
      ],
      "text/plain": [
       "<graphviz.graphs.Digraph at 0x110bd0820>"
      ]
     },
     "execution_count": 9,
     "metadata": {},
     "output_type": "execute_result"
    }
   ],
   "source": [
    "dot = viz.generate_graph(y)\n",
    "dot"
   ]
  },
  {
   "cell_type": "code",
   "execution_count": 468,
   "metadata": {},
   "outputs": [
    {
     "name": "stdout",
     "output_type": "stream",
     "text": [
      "yt: 554.2666625976562\n",
      "at.grad: 109.0\n",
      "bt.grad: 5.0\n",
      "ct.grad: 101.0\n",
      "et.grad: -0.06666667014360428\n",
      "ft.grad: 0.04888888821005821\n"
     ]
    }
   ],
   "source": [
    "at = torch.tensor(5.0, requires_grad=True)\n",
    "bt = torch.tensor(9.0, requires_grad=True)\n",
    "ct = torch.tensor(10.0, requires_grad=True)\n",
    "et = torch.tensor(11.0, requires_grad=True)\n",
    "ft = torch.tensor(15.0, requires_grad=True)\n",
    "\n",
    "yt = at * bt + ct - et / ft + at * ct**2\n",
    "\n",
    "yt.backward()\n",
    "\n",
    "print(f'yt: {yt}')\n",
    "print(f'at.grad: {at.grad}')\n",
    "print(f'bt.grad: {bt.grad}')\n",
    "print(f'ct.grad: {ct.grad}')\n",
    "print(f'et.grad: {et.grad}')\n",
    "print(f'ft.grad: {ft.grad}')"
   ]
  },
  {
   "cell_type": "code",
   "execution_count": 12,
   "metadata": {},
   "outputs": [
    {
     "name": "stdout",
     "output_type": "stream",
     "text": [
      "Value(data: 554.2666666666667)\n",
      "a.grad: 109.0\n",
      "b.grad: 5.0\n",
      "c.grad: 101.0\n",
      "e.grad: -0.06666666666666667\n",
      "f.grad: 0.04888888888888889\n"
     ]
    }
   ],
   "source": [
    "a = Value(5, label='a')\n",
    "b = Value(9, label='b')\n",
    "c = Value(10, label='c')\n",
    "e = Value(11, label='e')\n",
    "f = Value(15, label='f')\n",
    "y = a * b + c - e / f + a * c**2\n",
    "y.label = 'y'\n",
    "\n",
    "y.backward()\n",
    "\n",
    "print(y)\n",
    "print(f'a.grad: {a.grad}')\n",
    "print(f'b.grad: {b.grad}')\n",
    "print(f'c.grad: {c.grad}')\n",
    "print(f'e.grad: {e.grad}')\n",
    "print(f'f.grad: {f.grad}')"
   ]
  },
  {
   "cell_type": "code",
   "execution_count": 36,
   "metadata": {},
   "outputs": [
    {
     "data": {
      "image/svg+xml": [
       "<?xml version=\"1.0\" encoding=\"UTF-8\" standalone=\"no\"?>\n",
       "<!DOCTYPE svg PUBLIC \"-//W3C//DTD SVG 1.1//EN\"\n",
       " \"http://www.w3.org/Graphics/SVG/1.1/DTD/svg11.dtd\">\n",
       "<!-- Generated by graphviz version 12.1.2 (20240928.0832)\n",
       " -->\n",
       "<!-- Pages: 1 -->\n",
       "<svg width=\"1261pt\" height=\"625pt\"\n",
       " viewBox=\"0.00 0.00 1260.88 625.00\" xmlns=\"http://www.w3.org/2000/svg\" xmlns:xlink=\"http://www.w3.org/1999/xlink\">\n",
       "<g id=\"graph0\" class=\"graph\" transform=\"scale(1 1) rotate(0) translate(4 621)\">\n",
       "<polygon fill=\"white\" stroke=\"none\" points=\"-4,4 -4,-621 1256.88,-621 1256.88,4 -4,4\"/>\n",
       "<!-- 6092086816 -->\n",
       "<g id=\"node1\" class=\"node\">\n",
       "<title>6092086816</title>\n",
       "<polygon fill=\"none\" stroke=\"black\" points=\"702.38,-580.5 702.38,-616.5 987.38,-616.5 987.38,-580.5 702.38,-580.5\"/>\n",
       "<text text-anchor=\"middle\" x=\"713.75\" y=\"-593.45\" font-family=\"Times,serif\" font-size=\"14.00\">y</text>\n",
       "<polyline fill=\"none\" stroke=\"black\" points=\"725.12,-580.5 725.12,-616.5\"/>\n",
       "<text text-anchor=\"middle\" x=\"823.88\" y=\"-593.45\" font-family=\"Times,serif\" font-size=\"14.00\">Value(data: 554.2666666666667)</text>\n",
       "<polyline fill=\"none\" stroke=\"black\" points=\"922.62,-580.5 922.62,-616.5\"/>\n",
       "<text text-anchor=\"middle\" x=\"955\" y=\"-593.45\" font-family=\"Times,serif\" font-size=\"14.00\">grad: 1.0</text>\n",
       "</g>\n",
       "<!-- 6092086816_+ -->\n",
       "<g id=\"node2\" class=\"node\">\n",
       "<title>6092086816_+</title>\n",
       "<ellipse fill=\"none\" stroke=\"black\" cx=\"844.88\" cy=\"-526\" rx=\"27\" ry=\"18\"/>\n",
       "<text text-anchor=\"middle\" x=\"844.88\" y=\"-520.95\" font-family=\"Times,serif\" font-size=\"14.00\">+</text>\n",
       "</g>\n",
       "<!-- 6092086816_+&#45;&gt;6092086816 -->\n",
       "<g id=\"edge1\" class=\"edge\">\n",
       "<title>6092086816_+&#45;&gt;6092086816</title>\n",
       "<path fill=\"none\" stroke=\"black\" d=\"M844.88,-544.43C844.88,-551.77 844.88,-560.51 844.88,-568.76\"/>\n",
       "<polygon fill=\"black\" stroke=\"black\" points=\"841.38,-568.76 844.88,-578.76 848.38,-568.76 841.38,-568.76\"/>\n",
       "</g>\n",
       "<!-- 6050130288 -->\n",
       "<g id=\"node3\" class=\"node\">\n",
       "<title>6050130288</title>\n",
       "<polygon fill=\"none\" stroke=\"black\" points=\"569.5,-435.5 569.5,-471.5 858.25,-471.5 858.25,-435.5 569.5,-435.5\"/>\n",
       "<text text-anchor=\"middle\" x=\"579.38\" y=\"-448.45\" font-family=\"Times,serif\" font-size=\"14.00\"> </text>\n",
       "<polyline fill=\"none\" stroke=\"black\" points=\"589.25,-435.5 589.25,-471.5\"/>\n",
       "<text text-anchor=\"middle\" x=\"691.38\" y=\"-448.45\" font-family=\"Times,serif\" font-size=\"14.00\">Value(data: 54.266666666666666)</text>\n",
       "<polyline fill=\"none\" stroke=\"black\" points=\"793.5,-435.5 793.5,-471.5\"/>\n",
       "<text text-anchor=\"middle\" x=\"825.88\" y=\"-448.45\" font-family=\"Times,serif\" font-size=\"14.00\">grad: 1.0</text>\n",
       "</g>\n",
       "<!-- 6050130288&#45;&gt;6092086816_+ -->\n",
       "<g id=\"edge8\" class=\"edge\">\n",
       "<title>6050130288&#45;&gt;6092086816_+</title>\n",
       "<path fill=\"none\" stroke=\"black\" d=\"M746.26,-471.93C767.03,-483.11 793.84,-497.53 814.26,-508.52\"/>\n",
       "<polygon fill=\"black\" stroke=\"black\" points=\"812.49,-511.55 822.96,-513.21 815.81,-505.38 812.49,-511.55\"/>\n",
       "</g>\n",
       "<!-- 6050130288_&#45; -->\n",
       "<g id=\"node4\" class=\"node\">\n",
       "<title>6050130288_&#45;</title>\n",
       "<ellipse fill=\"none\" stroke=\"black\" cx=\"640.88\" cy=\"-381\" rx=\"27\" ry=\"18\"/>\n",
       "<text text-anchor=\"middle\" x=\"640.88\" y=\"-375.95\" font-family=\"Times,serif\" font-size=\"14.00\">&#45;</text>\n",
       "</g>\n",
       "<!-- 6050130288_&#45;&#45;&gt;6050130288 -->\n",
       "<g id=\"edge2\" class=\"edge\">\n",
       "<title>6050130288_&#45;&#45;&gt;6050130288</title>\n",
       "<path fill=\"none\" stroke=\"black\" d=\"M655.65,-396.27C664.79,-405.09 676.78,-416.68 687.51,-427.04\"/>\n",
       "<polygon fill=\"black\" stroke=\"black\" points=\"685.05,-429.53 694.67,-433.96 689.91,-424.49 685.05,-429.53\"/>\n",
       "</g>\n",
       "<!-- 6092163296 -->\n",
       "<g id=\"node5\" class=\"node\">\n",
       "<title>6092163296</title>\n",
       "<polygon fill=\"none\" stroke=\"black\" points=\"287,-290.5 287,-326.5 470.75,-326.5 470.75,-290.5 287,-290.5\"/>\n",
       "<text text-anchor=\"middle\" x=\"296.88\" y=\"-303.45\" font-family=\"Times,serif\" font-size=\"14.00\"> </text>\n",
       "<polyline fill=\"none\" stroke=\"black\" points=\"306.75,-290.5 306.75,-326.5\"/>\n",
       "<text text-anchor=\"middle\" x=\"356.38\" y=\"-303.45\" font-family=\"Times,serif\" font-size=\"14.00\">Value(data: 55)</text>\n",
       "<polyline fill=\"none\" stroke=\"black\" points=\"406,-290.5 406,-326.5\"/>\n",
       "<text text-anchor=\"middle\" x=\"438.38\" y=\"-303.45\" font-family=\"Times,serif\" font-size=\"14.00\">grad: 1.0</text>\n",
       "</g>\n",
       "<!-- 6092163296&#45;&gt;6050130288_&#45; -->\n",
       "<g id=\"edge9\" class=\"edge\">\n",
       "<title>6092163296&#45;&gt;6050130288_&#45;</title>\n",
       "<path fill=\"none\" stroke=\"black\" d=\"M443.64,-326.93C494.61,-340.64 563.74,-359.24 605.17,-370.39\"/>\n",
       "<polygon fill=\"black\" stroke=\"black\" points=\"604.05,-373.72 614.62,-372.93 605.87,-366.96 604.05,-373.72\"/>\n",
       "</g>\n",
       "<!-- 6092163296_+ -->\n",
       "<g id=\"node6\" class=\"node\">\n",
       "<title>6092163296_+</title>\n",
       "<ellipse fill=\"none\" stroke=\"black\" cx=\"301.88\" cy=\"-236\" rx=\"27\" ry=\"18\"/>\n",
       "<text text-anchor=\"middle\" x=\"301.88\" y=\"-230.95\" font-family=\"Times,serif\" font-size=\"14.00\">+</text>\n",
       "</g>\n",
       "<!-- 6092163296_+&#45;&gt;6092163296 -->\n",
       "<g id=\"edge3\" class=\"edge\">\n",
       "<title>6092163296_+&#45;&gt;6092163296</title>\n",
       "<path fill=\"none\" stroke=\"black\" d=\"M317.09,-250.93C326.87,-259.88 339.86,-271.78 351.4,-282.35\"/>\n",
       "<polygon fill=\"black\" stroke=\"black\" points=\"349.02,-284.91 358.76,-289.08 353.74,-279.74 349.02,-284.91\"/>\n",
       "</g>\n",
       "<!-- 6092163488 -->\n",
       "<g id=\"node7\" class=\"node\">\n",
       "<title>6092163488</title>\n",
       "<polygon fill=\"none\" stroke=\"black\" points=\"0,-145.5 0,-181.5 183.75,-181.5 183.75,-145.5 0,-145.5\"/>\n",
       "<text text-anchor=\"middle\" x=\"9.88\" y=\"-158.45\" font-family=\"Times,serif\" font-size=\"14.00\"> </text>\n",
       "<polyline fill=\"none\" stroke=\"black\" points=\"19.75,-145.5 19.75,-181.5\"/>\n",
       "<text text-anchor=\"middle\" x=\"69.38\" y=\"-158.45\" font-family=\"Times,serif\" font-size=\"14.00\">Value(data: 45)</text>\n",
       "<polyline fill=\"none\" stroke=\"black\" points=\"119,-145.5 119,-181.5\"/>\n",
       "<text text-anchor=\"middle\" x=\"151.38\" y=\"-158.45\" font-family=\"Times,serif\" font-size=\"14.00\">grad: 1.0</text>\n",
       "</g>\n",
       "<!-- 6092163488&#45;&gt;6092163296_+ -->\n",
       "<g id=\"edge10\" class=\"edge\">\n",
       "<title>6092163488&#45;&gt;6092163296_+</title>\n",
       "<path fill=\"none\" stroke=\"black\" d=\"M143.79,-181.93C182.31,-194.86 233.76,-212.13 267.35,-223.41\"/>\n",
       "<polygon fill=\"black\" stroke=\"black\" points=\"265.98,-226.64 276.58,-226.51 268.21,-220.01 265.98,-226.64\"/>\n",
       "</g>\n",
       "<!-- 6092163488_* -->\n",
       "<g id=\"node8\" class=\"node\">\n",
       "<title>6092163488_*</title>\n",
       "<ellipse fill=\"none\" stroke=\"black\" cx=\"331.88\" cy=\"-91\" rx=\"27\" ry=\"18\"/>\n",
       "<text text-anchor=\"middle\" x=\"331.88\" y=\"-85.95\" font-family=\"Times,serif\" font-size=\"14.00\">*</text>\n",
       "</g>\n",
       "<!-- 6092163488_*&#45;&gt;6092163488 -->\n",
       "<g id=\"edge4\" class=\"edge\">\n",
       "<title>6092163488_*&#45;&gt;6092163488</title>\n",
       "<path fill=\"none\" stroke=\"black\" d=\"M307.54,-99.15C273.75,-109.07 211.24,-127.44 162.18,-141.85\"/>\n",
       "<polygon fill=\"black\" stroke=\"black\" points=\"161.36,-138.44 152.76,-144.62 163.34,-145.16 161.36,-138.44\"/>\n",
       "</g>\n",
       "<!-- 6092162864 -->\n",
       "<g id=\"node9\" class=\"node\">\n",
       "<title>6092162864</title>\n",
       "<polygon fill=\"none\" stroke=\"black\" points=\"917.5,-0.5 917.5,-36.5 1110.25,-36.5 1110.25,-0.5 917.5,-0.5\"/>\n",
       "<text text-anchor=\"middle\" x=\"928.5\" y=\"-13.45\" font-family=\"Times,serif\" font-size=\"14.00\">a</text>\n",
       "<polyline fill=\"none\" stroke=\"black\" points=\"939.5,-0.5 939.5,-36.5\"/>\n",
       "<text text-anchor=\"middle\" x=\"985.75\" y=\"-13.45\" font-family=\"Times,serif\" font-size=\"14.00\">Value(data: 5)</text>\n",
       "<polyline fill=\"none\" stroke=\"black\" points=\"1032,-0.5 1032,-36.5\"/>\n",
       "<text text-anchor=\"middle\" x=\"1071.12\" y=\"-13.45\" font-family=\"Times,serif\" font-size=\"14.00\">grad: 109.0</text>\n",
       "</g>\n",
       "<!-- 6092162864&#45;&gt;6092163488_* -->\n",
       "<g id=\"edge11\" class=\"edge\">\n",
       "<title>6092162864&#45;&gt;6092163488_*</title>\n",
       "<path fill=\"none\" stroke=\"black\" d=\"M917.25,-29.49C764.39,-45.29 473.53,-75.36 369.8,-86.08\"/>\n",
       "<polygon fill=\"black\" stroke=\"black\" points=\"369.75,-82.57 360.16,-87.08 370.47,-89.53 369.75,-82.57\"/>\n",
       "</g>\n",
       "<!-- 6092087104_* -->\n",
       "<g id=\"node17\" class=\"node\">\n",
       "<title>6092087104_*</title>\n",
       "<ellipse fill=\"none\" stroke=\"black\" cx=\"1050.88\" cy=\"-381\" rx=\"27\" ry=\"18\"/>\n",
       "<text text-anchor=\"middle\" x=\"1050.88\" y=\"-375.95\" font-family=\"Times,serif\" font-size=\"14.00\">*</text>\n",
       "</g>\n",
       "<!-- 6092162864&#45;&gt;6092087104_* -->\n",
       "<g id=\"edge18\" class=\"edge\">\n",
       "<title>6092162864&#45;&gt;6092087104_*</title>\n",
       "<path fill=\"none\" stroke=\"black\" d=\"M1108.33,-36.91C1175.14,-55.32 1252.88,-91.9 1252.88,-162.5 1252.88,-162.5 1252.88,-162.5 1252.88,-237 1252.88,-317.16 1145.59,-356.43 1087.4,-371.84\"/>\n",
       "<polygon fill=\"black\" stroke=\"black\" points=\"1086.76,-368.39 1077.93,-374.23 1088.48,-375.17 1086.76,-368.39\"/>\n",
       "</g>\n",
       "<!-- 6092164160 -->\n",
       "<g id=\"node10\" class=\"node\">\n",
       "<title>6092164160</title>\n",
       "<polygon fill=\"none\" stroke=\"black\" points=\"241.88,-0.5 241.88,-36.5 421.88,-36.5 421.88,-0.5 241.88,-0.5\"/>\n",
       "<text text-anchor=\"middle\" x=\"253.25\" y=\"-13.45\" font-family=\"Times,serif\" font-size=\"14.00\">b</text>\n",
       "<polyline fill=\"none\" stroke=\"black\" points=\"264.62,-0.5 264.62,-36.5\"/>\n",
       "<text text-anchor=\"middle\" x=\"310.88\" y=\"-13.45\" font-family=\"Times,serif\" font-size=\"14.00\">Value(data: 9)</text>\n",
       "<polyline fill=\"none\" stroke=\"black\" points=\"357.12,-0.5 357.12,-36.5\"/>\n",
       "<text text-anchor=\"middle\" x=\"389.5\" y=\"-13.45\" font-family=\"Times,serif\" font-size=\"14.00\">grad: 5.0</text>\n",
       "</g>\n",
       "<!-- 6092164160&#45;&gt;6092163488_* -->\n",
       "<g id=\"edge12\" class=\"edge\">\n",
       "<title>6092164160&#45;&gt;6092163488_*</title>\n",
       "<path fill=\"none\" stroke=\"black\" d=\"M331.88,-36.93C331.88,-44.27 331.88,-53.01 331.88,-61.26\"/>\n",
       "<polygon fill=\"black\" stroke=\"black\" points=\"328.38,-61.26 331.88,-71.26 335.38,-61.26 328.38,-61.26\"/>\n",
       "</g>\n",
       "<!-- 6092161520 -->\n",
       "<g id=\"node11\" class=\"node\">\n",
       "<title>6092161520</title>\n",
       "<polygon fill=\"none\" stroke=\"black\" points=\"202.12,-145.5 202.12,-181.5 401.62,-181.5 401.62,-145.5 202.12,-145.5\"/>\n",
       "<text text-anchor=\"middle\" x=\"213.12\" y=\"-158.45\" font-family=\"Times,serif\" font-size=\"14.00\">c</text>\n",
       "<polyline fill=\"none\" stroke=\"black\" points=\"224.12,-145.5 224.12,-181.5\"/>\n",
       "<text text-anchor=\"middle\" x=\"273.75\" y=\"-158.45\" font-family=\"Times,serif\" font-size=\"14.00\">Value(data: 10)</text>\n",
       "<polyline fill=\"none\" stroke=\"black\" points=\"323.38,-145.5 323.38,-181.5\"/>\n",
       "<text text-anchor=\"middle\" x=\"362.5\" y=\"-158.45\" font-family=\"Times,serif\" font-size=\"14.00\">grad: 101.0</text>\n",
       "</g>\n",
       "<!-- 6092161520&#45;&gt;6092163296_+ -->\n",
       "<g id=\"edge13\" class=\"edge\">\n",
       "<title>6092161520&#45;&gt;6092163296_+</title>\n",
       "<path fill=\"none\" stroke=\"black\" d=\"M301.88,-181.93C301.88,-189.27 301.88,-198.01 301.88,-206.26\"/>\n",
       "<polygon fill=\"black\" stroke=\"black\" points=\"298.38,-206.26 301.88,-216.26 305.38,-206.26 298.38,-206.26\"/>\n",
       "</g>\n",
       "<!-- 6092086336_** -->\n",
       "<g id=\"node19\" class=\"node\">\n",
       "<title>6092086336_**</title>\n",
       "<ellipse fill=\"none\" stroke=\"black\" cx=\"1050.88\" cy=\"-236\" rx=\"27\" ry=\"18\"/>\n",
       "<text text-anchor=\"middle\" x=\"1050.88\" y=\"-230.95\" font-family=\"Times,serif\" font-size=\"14.00\">**</text>\n",
       "</g>\n",
       "<!-- 6092161520&#45;&gt;6092086336_** -->\n",
       "<g id=\"edge20\" class=\"edge\">\n",
       "<title>6092161520&#45;&gt;6092086336_**</title>\n",
       "<path fill=\"none\" stroke=\"black\" d=\"M401.92,-180.87C404.93,-181.26 407.93,-181.64 410.88,-182 638.21,-209.62 912.75,-227.04 1012.39,-232.84\"/>\n",
       "<polygon fill=\"black\" stroke=\"black\" points=\"1011.97,-236.33 1022.15,-233.41 1012.37,-229.34 1011.97,-236.33\"/>\n",
       "</g>\n",
       "<!-- 6092163392 -->\n",
       "<g id=\"node12\" class=\"node\">\n",
       "<title>6092163392</title>\n",
       "<polygon fill=\"none\" stroke=\"black\" points=\"494.25,-290.5 494.25,-326.5 787.5,-326.5 787.5,-290.5 494.25,-290.5\"/>\n",
       "<text text-anchor=\"middle\" x=\"504.12\" y=\"-303.45\" font-family=\"Times,serif\" font-size=\"14.00\"> </text>\n",
       "<polyline fill=\"none\" stroke=\"black\" points=\"514,-290.5 514,-326.5\"/>\n",
       "<text text-anchor=\"middle\" x=\"616.12\" y=\"-303.45\" font-family=\"Times,serif\" font-size=\"14.00\">Value(data: 0.7333333333333333)</text>\n",
       "<polyline fill=\"none\" stroke=\"black\" points=\"718.25,-290.5 718.25,-326.5\"/>\n",
       "<text text-anchor=\"middle\" x=\"752.88\" y=\"-303.45\" font-family=\"Times,serif\" font-size=\"14.00\">grad: &#45;1.0</text>\n",
       "</g>\n",
       "<!-- 6092163392&#45;&gt;6050130288_&#45; -->\n",
       "<g id=\"edge14\" class=\"edge\">\n",
       "<title>6092163392&#45;&gt;6050130288_&#45;</title>\n",
       "<path fill=\"none\" stroke=\"black\" d=\"M640.88,-326.93C640.88,-334.27 640.88,-343.01 640.88,-351.26\"/>\n",
       "<polygon fill=\"black\" stroke=\"black\" points=\"637.38,-351.26 640.88,-361.26 644.38,-351.26 637.38,-351.26\"/>\n",
       "</g>\n",
       "<!-- 6092163392_/ -->\n",
       "<g id=\"node13\" class=\"node\">\n",
       "<title>6092163392_/</title>\n",
       "<ellipse fill=\"none\" stroke=\"black\" cx=\"640.88\" cy=\"-236\" rx=\"27\" ry=\"18\"/>\n",
       "<text text-anchor=\"middle\" x=\"640.88\" y=\"-230.95\" font-family=\"Times,serif\" font-size=\"14.00\">/</text>\n",
       "</g>\n",
       "<!-- 6092163392_/&#45;&gt;6092163392 -->\n",
       "<g id=\"edge5\" class=\"edge\">\n",
       "<title>6092163392_/&#45;&gt;6092163392</title>\n",
       "<path fill=\"none\" stroke=\"black\" d=\"M640.88,-254.43C640.88,-261.77 640.88,-270.51 640.88,-278.76\"/>\n",
       "<polygon fill=\"black\" stroke=\"black\" points=\"637.38,-278.76 640.88,-288.76 644.38,-278.76 637.38,-278.76\"/>\n",
       "</g>\n",
       "<!-- 6092162048 -->\n",
       "<g id=\"node14\" class=\"node\">\n",
       "<title>6092162048</title>\n",
       "<polygon fill=\"none\" stroke=\"black\" points=\"419.62,-145.5 419.62,-181.5 718.12,-181.5 718.12,-145.5 419.62,-145.5\"/>\n",
       "<text text-anchor=\"middle\" x=\"430.62\" y=\"-158.45\" font-family=\"Times,serif\" font-size=\"14.00\">e</text>\n",
       "<polyline fill=\"none\" stroke=\"black\" points=\"441.62,-145.5 441.62,-181.5\"/>\n",
       "<text text-anchor=\"middle\" x=\"491.25\" y=\"-158.45\" font-family=\"Times,serif\" font-size=\"14.00\">Value(data: 11)</text>\n",
       "<polyline fill=\"none\" stroke=\"black\" points=\"540.88,-145.5 540.88,-181.5\"/>\n",
       "<text text-anchor=\"middle\" x=\"629.5\" y=\"-158.45\" font-family=\"Times,serif\" font-size=\"14.00\">grad: &#45;0.06666666666666667</text>\n",
       "</g>\n",
       "<!-- 6092162048&#45;&gt;6092163392_/ -->\n",
       "<g id=\"edge15\" class=\"edge\">\n",
       "<title>6092162048&#45;&gt;6092163392_/</title>\n",
       "<path fill=\"none\" stroke=\"black\" d=\"M586.67,-181.93C596.17,-191.23 607.97,-202.78 618.13,-212.72\"/>\n",
       "<polygon fill=\"black\" stroke=\"black\" points=\"615.51,-215.06 625.11,-219.56 620.41,-210.06 615.51,-215.06\"/>\n",
       "</g>\n",
       "<!-- 6092163152 -->\n",
       "<g id=\"node15\" class=\"node\">\n",
       "<title>6092163152</title>\n",
       "<polygon fill=\"none\" stroke=\"black\" points=\"736.62,-145.5 736.62,-181.5 1029.12,-181.5 1029.12,-145.5 736.62,-145.5\"/>\n",
       "<text text-anchor=\"middle\" x=\"746.88\" y=\"-158.45\" font-family=\"Times,serif\" font-size=\"14.00\">f</text>\n",
       "<polyline fill=\"none\" stroke=\"black\" points=\"757.12,-145.5 757.12,-181.5\"/>\n",
       "<text text-anchor=\"middle\" x=\"806.75\" y=\"-158.45\" font-family=\"Times,serif\" font-size=\"14.00\">Value(data: 15)</text>\n",
       "<polyline fill=\"none\" stroke=\"black\" points=\"856.38,-145.5 856.38,-181.5\"/>\n",
       "<text text-anchor=\"middle\" x=\"942.75\" y=\"-158.45\" font-family=\"Times,serif\" font-size=\"14.00\">grad: 0.04888888888888889</text>\n",
       "</g>\n",
       "<!-- 6092163152&#45;&gt;6092163392_/ -->\n",
       "<g id=\"edge16\" class=\"edge\">\n",
       "<title>6092163152&#45;&gt;6092163392_/</title>\n",
       "<path fill=\"none\" stroke=\"black\" d=\"M823.05,-181.93C776.81,-195.4 714.39,-213.58 675.92,-224.79\"/>\n",
       "<polygon fill=\"black\" stroke=\"black\" points=\"675.35,-221.31 666.73,-227.47 677.31,-228.03 675.35,-221.31\"/>\n",
       "</g>\n",
       "<!-- 6092087104 -->\n",
       "<g id=\"node16\" class=\"node\">\n",
       "<title>6092087104</title>\n",
       "<polygon fill=\"none\" stroke=\"black\" points=\"877.38,-435.5 877.38,-471.5 1078.38,-471.5 1078.38,-435.5 877.38,-435.5\"/>\n",
       "<text text-anchor=\"middle\" x=\"887.25\" y=\"-448.45\" font-family=\"Times,serif\" font-size=\"14.00\"> </text>\n",
       "<polyline fill=\"none\" stroke=\"black\" points=\"897.12,-435.5 897.12,-471.5\"/>\n",
       "<text text-anchor=\"middle\" x=\"955.38\" y=\"-448.45\" font-family=\"Times,serif\" font-size=\"14.00\">Value(data: 500.0)</text>\n",
       "<polyline fill=\"none\" stroke=\"black\" points=\"1013.62,-435.5 1013.62,-471.5\"/>\n",
       "<text text-anchor=\"middle\" x=\"1046\" y=\"-448.45\" font-family=\"Times,serif\" font-size=\"14.00\">grad: 1.0</text>\n",
       "</g>\n",
       "<!-- 6092087104&#45;&gt;6092086816_+ -->\n",
       "<g id=\"edge17\" class=\"edge\">\n",
       "<title>6092087104&#45;&gt;6092086816_+</title>\n",
       "<path fill=\"none\" stroke=\"black\" d=\"M945,-471.93C923.68,-483.23 896.1,-497.85 875.29,-508.88\"/>\n",
       "<polygon fill=\"black\" stroke=\"black\" points=\"873.91,-505.65 866.72,-513.42 877.19,-511.83 873.91,-505.65\"/>\n",
       "</g>\n",
       "<!-- 6092087104_*&#45;&gt;6092087104 -->\n",
       "<g id=\"edge6\" class=\"edge\">\n",
       "<title>6092087104_*&#45;&gt;6092087104</title>\n",
       "<path fill=\"none\" stroke=\"black\" d=\"M1036.1,-396.27C1026.96,-405.09 1014.97,-416.68 1004.24,-427.04\"/>\n",
       "<polygon fill=\"black\" stroke=\"black\" points=\"1001.84,-424.49 997.08,-433.96 1006.7,-429.53 1001.84,-424.49\"/>\n",
       "</g>\n",
       "<!-- 6092086336 -->\n",
       "<g id=\"node18\" class=\"node\">\n",
       "<title>6092086336</title>\n",
       "<polygon fill=\"none\" stroke=\"black\" points=\"950.38,-290.5 950.38,-326.5 1151.38,-326.5 1151.38,-290.5 950.38,-290.5\"/>\n",
       "<text text-anchor=\"middle\" x=\"960.25\" y=\"-303.45\" font-family=\"Times,serif\" font-size=\"14.00\"> </text>\n",
       "<polyline fill=\"none\" stroke=\"black\" points=\"970.12,-290.5 970.12,-326.5\"/>\n",
       "<text text-anchor=\"middle\" x=\"1028.38\" y=\"-303.45\" font-family=\"Times,serif\" font-size=\"14.00\">Value(data: 100.0)</text>\n",
       "<polyline fill=\"none\" stroke=\"black\" points=\"1086.62,-290.5 1086.62,-326.5\"/>\n",
       "<text text-anchor=\"middle\" x=\"1119\" y=\"-303.45\" font-family=\"Times,serif\" font-size=\"14.00\">grad: 5.0</text>\n",
       "</g>\n",
       "<!-- 6092086336&#45;&gt;6092087104_* -->\n",
       "<g id=\"edge19\" class=\"edge\">\n",
       "<title>6092086336&#45;&gt;6092087104_*</title>\n",
       "<path fill=\"none\" stroke=\"black\" d=\"M1050.88,-326.93C1050.88,-334.27 1050.88,-343.01 1050.88,-351.26\"/>\n",
       "<polygon fill=\"black\" stroke=\"black\" points=\"1047.38,-351.26 1050.88,-361.26 1054.38,-351.26 1047.38,-351.26\"/>\n",
       "</g>\n",
       "<!-- 6092086336_**&#45;&gt;6092086336 -->\n",
       "<g id=\"edge7\" class=\"edge\">\n",
       "<title>6092086336_**&#45;&gt;6092086336</title>\n",
       "<path fill=\"none\" stroke=\"black\" d=\"M1050.88,-254.43C1050.88,-261.77 1050.88,-270.51 1050.88,-278.76\"/>\n",
       "<polygon fill=\"black\" stroke=\"black\" points=\"1047.38,-278.76 1050.88,-288.76 1054.38,-278.76 1047.38,-278.76\"/>\n",
       "</g>\n",
       "<!-- 6092086624 -->\n",
       "<g id=\"node20\" class=\"node\">\n",
       "<title>6092086624</title>\n",
       "<polygon fill=\"none\" stroke=\"black\" points=\"1047.38,-145.5 1047.38,-181.5 1224.38,-181.5 1224.38,-145.5 1047.38,-145.5\"/>\n",
       "<text text-anchor=\"middle\" x=\"1057.25\" y=\"-158.45\" font-family=\"Times,serif\" font-size=\"14.00\"> </text>\n",
       "<polyline fill=\"none\" stroke=\"black\" points=\"1067.12,-145.5 1067.12,-181.5\"/>\n",
       "<text text-anchor=\"middle\" x=\"1113.38\" y=\"-158.45\" font-family=\"Times,serif\" font-size=\"14.00\">Value(data: 2)</text>\n",
       "<polyline fill=\"none\" stroke=\"black\" points=\"1159.62,-145.5 1159.62,-181.5\"/>\n",
       "<text text-anchor=\"middle\" x=\"1192\" y=\"-158.45\" font-family=\"Times,serif\" font-size=\"14.00\">grad: 0.0</text>\n",
       "</g>\n",
       "<!-- 6092086624&#45;&gt;6092086336_** -->\n",
       "<g id=\"edge21\" class=\"edge\">\n",
       "<title>6092086624&#45;&gt;6092086336_**</title>\n",
       "<path fill=\"none\" stroke=\"black\" d=\"M1114.86,-181.93C1103.07,-191.7 1088.29,-203.97 1075.91,-214.24\"/>\n",
       "<polygon fill=\"black\" stroke=\"black\" points=\"1074.02,-211.26 1068.55,-220.34 1078.48,-216.65 1074.02,-211.26\"/>\n",
       "</g>\n",
       "</g>\n",
       "</svg>\n"
      ],
      "text/plain": [
       "<graphviz.graphs.Digraph at 0x16b1d67c0>"
      ]
     },
     "execution_count": 36,
     "metadata": {},
     "output_type": "execute_result"
    }
   ],
   "source": [
    "dot = viz.generate_graph(y)\n",
    "dot"
   ]
  },
  {
   "cell_type": "code",
   "execution_count": 18,
   "metadata": {},
   "outputs": [
    {
     "data": {
      "text/plain": [
       "tensor(22026.4648, grad_fn=<ExpBackward0>)"
      ]
     },
     "execution_count": 18,
     "metadata": {},
     "output_type": "execute_result"
    }
   ],
   "source": [
    "at = torch.tensor(5.0, requires_grad=True)\n",
    "(at*2).exp()"
   ]
  },
  {
   "cell_type": "code",
   "execution_count": 19,
   "metadata": {},
   "outputs": [
    {
     "data": {
      "text/plain": [
       "Value(data: 22026.465794806718)"
      ]
     },
     "execution_count": 19,
     "metadata": {},
     "output_type": "execute_result"
    }
   ],
   "source": [
    "a = Value(5)\n",
    "(a*Value(2)).exp()"
   ]
  },
  {
   "cell_type": "code",
   "execution_count": 20,
   "metadata": {},
   "outputs": [
    {
     "data": {
      "text/plain": [
       "tensor(44052.9297)"
      ]
     },
     "execution_count": 20,
     "metadata": {},
     "output_type": "execute_result"
    }
   ],
   "source": [
    "at = torch.tensor(5.0, requires_grad=True)\n",
    "yt = (at*2).exp()\n",
    "yt.backward()\n",
    "at.grad"
   ]
  },
  {
   "cell_type": "code",
   "execution_count": 22,
   "metadata": {},
   "outputs": [
    {
     "data": {
      "text/plain": [
       "44052.931589613436"
      ]
     },
     "execution_count": 22,
     "metadata": {},
     "output_type": "execute_result"
    }
   ],
   "source": [
    "a = Value(5)\n",
    "y = (a*Value(2)).exp()\n",
    "y.backward()\n",
    "a.grad"
   ]
  },
  {
   "cell_type": "code",
   "execution_count": 724,
   "metadata": {},
   "outputs": [],
   "source": [
    "def tanh(x):\n",
    "    exp = math.exp(x.data * 2)\n",
    "    out = (exp - 1) / (exp + 1)\n",
    "    result = Value(out, prevs=[x], ops='tanh')\n",
    "\n",
    "    def tanh_backward():\n",
    "        x.grad += (1 - out ** 2) * result.grad\n",
    "    result._backward = tanh_backward\n",
    "    return result\n",
    "\n",
    "\n",
    "def tanh_raw(x):\n",
    "    x2exp = (x * Value(2)).exp()\n",
    "    return (x2exp - Value(1)) / (x2exp + Value(1))"
   ]
  },
  {
   "cell_type": "code",
   "execution_count": 718,
   "metadata": {},
   "outputs": [
    {
     "name": "stdout",
     "output_type": "stream",
     "text": [
      "Value(data: 0.9950547536867305)\n",
      "0.009866037165440211\n",
      "0.009866037165440211\n"
     ]
    }
   ],
   "source": [
    "a = Value(3, label='a')\n",
    "y = tanh(a)\n",
    "y.label = 'y'\n",
    "print(y)\n",
    "y.backward()\n",
    "print(a.grad)\n",
    "print(1 - y.data ** 2)"
   ]
  },
  {
   "cell_type": "code",
   "execution_count": 719,
   "metadata": {},
   "outputs": [
    {
     "name": "stdout",
     "output_type": "stream",
     "text": [
      "tensor(0.9951, grad_fn=<TanhBackward0>)\n",
      "tensor(0.0099)\n"
     ]
    }
   ],
   "source": [
    "at = torch.tensor(3.0, requires_grad=True)\n",
    "yt = torch.tanh(at)\n",
    "print(yt)\n",
    "yt.backward()\n",
    "print(at.grad)"
   ]
  },
  {
   "cell_type": "code",
   "execution_count": 55,
   "metadata": {},
   "outputs": [
    {
     "data": {
      "image/svg+xml": [
       "<?xml version=\"1.0\" encoding=\"UTF-8\" standalone=\"no\"?>\n",
       "<!DOCTYPE svg PUBLIC \"-//W3C//DTD SVG 1.1//EN\"\n",
       " \"http://www.w3.org/Graphics/SVG/1.1/DTD/svg11.dtd\">\n",
       "<!-- Generated by graphviz version 12.1.2 (20240928.0832)\n",
       " -->\n",
       "<!-- Pages: 1 -->\n",
       "<svg width=\"302pt\" height=\"190pt\"\n",
       " viewBox=\"0.00 0.00 302.00 190.00\" xmlns=\"http://www.w3.org/2000/svg\" xmlns:xlink=\"http://www.w3.org/1999/xlink\">\n",
       "<g id=\"graph0\" class=\"graph\" transform=\"scale(1 1) rotate(0) translate(4 186)\">\n",
       "<polygon fill=\"white\" stroke=\"none\" points=\"-4,4 -4,-186 298,-186 298,4 -4,4\"/>\n",
       "<!-- 6226263680 -->\n",
       "<g id=\"node1\" class=\"node\">\n",
       "<title>6226263680</title>\n",
       "<polygon fill=\"none\" stroke=\"black\" points=\"1.12,-145.5 1.12,-181.5 292.88,-181.5 292.88,-145.5 1.12,-145.5\"/>\n",
       "<text text-anchor=\"middle\" x=\"12.5\" y=\"-158.45\" font-family=\"Times,serif\" font-size=\"14.00\">y</text>\n",
       "<polyline fill=\"none\" stroke=\"black\" points=\"23.88,-145.5 23.88,-181.5\"/>\n",
       "<text text-anchor=\"middle\" x=\"126\" y=\"-158.45\" font-family=\"Times,serif\" font-size=\"14.00\">Value(data: 0.9950547536867305)</text>\n",
       "<polyline fill=\"none\" stroke=\"black\" points=\"228.12,-145.5 228.12,-181.5\"/>\n",
       "<text text-anchor=\"middle\" x=\"260.5\" y=\"-158.45\" font-family=\"Times,serif\" font-size=\"14.00\">grad: 1.0</text>\n",
       "</g>\n",
       "<!-- 6226263680_tanh -->\n",
       "<g id=\"node2\" class=\"node\">\n",
       "<title>6226263680_tanh</title>\n",
       "<ellipse fill=\"none\" stroke=\"black\" cx=\"147\" cy=\"-91\" rx=\"27\" ry=\"18\"/>\n",
       "<text text-anchor=\"middle\" x=\"147\" y=\"-85.95\" font-family=\"Times,serif\" font-size=\"14.00\">tanh</text>\n",
       "</g>\n",
       "<!-- 6226263680_tanh&#45;&gt;6226263680 -->\n",
       "<g id=\"edge1\" class=\"edge\">\n",
       "<title>6226263680_tanh&#45;&gt;6226263680</title>\n",
       "<path fill=\"none\" stroke=\"black\" d=\"M147,-109.43C147,-116.77 147,-125.51 147,-133.76\"/>\n",
       "<polygon fill=\"black\" stroke=\"black\" points=\"143.5,-133.76 147,-143.76 150.5,-133.76 143.5,-133.76\"/>\n",
       "</g>\n",
       "<!-- 6209074512 -->\n",
       "<g id=\"node3\" class=\"node\">\n",
       "<title>6209074512</title>\n",
       "<polygon fill=\"none\" stroke=\"black\" points=\"0,-0.5 0,-36.5 294,-36.5 294,-0.5 0,-0.5\"/>\n",
       "<text text-anchor=\"middle\" x=\"11\" y=\"-13.45\" font-family=\"Times,serif\" font-size=\"14.00\">a</text>\n",
       "<polyline fill=\"none\" stroke=\"black\" points=\"22,-0.5 22,-36.5\"/>\n",
       "<text text-anchor=\"middle\" x=\"68.25\" y=\"-13.45\" font-family=\"Times,serif\" font-size=\"14.00\">Value(data: 3)</text>\n",
       "<polyline fill=\"none\" stroke=\"black\" points=\"114.5,-0.5 114.5,-36.5\"/>\n",
       "<text text-anchor=\"middle\" x=\"204.25\" y=\"-13.45\" font-family=\"Times,serif\" font-size=\"14.00\">grad: 0.009866037165440211</text>\n",
       "</g>\n",
       "<!-- 6209074512&#45;&gt;6226263680_tanh -->\n",
       "<g id=\"edge2\" class=\"edge\">\n",
       "<title>6209074512&#45;&gt;6226263680_tanh</title>\n",
       "<path fill=\"none\" stroke=\"black\" d=\"M147,-36.93C147,-44.27 147,-53.01 147,-61.26\"/>\n",
       "<polygon fill=\"black\" stroke=\"black\" points=\"143.5,-61.26 147,-71.26 150.5,-61.26 143.5,-61.26\"/>\n",
       "</g>\n",
       "</g>\n",
       "</svg>\n"
      ],
      "text/plain": [
       "<graphviz.graphs.Digraph at 0x17216f4f0>"
      ]
     },
     "execution_count": 55,
     "metadata": {},
     "output_type": "execute_result"
    }
   ],
   "source": [
    "dot = viz.generate_graph(y)\n",
    "dot"
   ]
  },
  {
   "cell_type": "code",
   "execution_count": 59,
   "metadata": {},
   "outputs": [
    {
     "name": "stdout",
     "output_type": "stream",
     "text": [
      "Value(data: -4)\n",
      "Value(data: 6)\n"
     ]
    }
   ],
   "source": [
    "a = Value(5)\n",
    "y1 = 1 - a\n",
    "y2 = 1 + a\n",
    "\n",
    "print(y1)\n",
    "print(y2)"
   ]
  },
  {
   "cell_type": "code",
   "execution_count": 61,
   "metadata": {},
   "outputs": [
    {
     "name": "stdout",
     "output_type": "stream",
     "text": [
      "Value(data: 50)\n"
     ]
    }
   ],
   "source": [
    "a = Value(5)\n",
    "y = 10 * a\n",
    "\n",
    "print(y)"
   ]
  },
  {
   "cell_type": "code",
   "execution_count": 64,
   "metadata": {},
   "outputs": [
    {
     "name": "stdout",
     "output_type": "stream",
     "text": [
      "Value(data: 2.0)\n"
     ]
    }
   ],
   "source": [
    "a = Value(5)\n",
    "y = 10 / a\n",
    "\n",
    "print(y)"
   ]
  },
  {
   "cell_type": "code",
   "execution_count": 71,
   "metadata": {},
   "outputs": [
    {
     "name": "stdout",
     "output_type": "stream",
     "text": [
      "Value(data: 100000.0)\n"
     ]
    }
   ],
   "source": [
    "a = Value(5)\n",
    "y = 10 ** a\n",
    "\n",
    "print(y)"
   ]
  },
  {
   "cell_type": "code",
   "execution_count": 567,
   "metadata": {},
   "outputs": [
    {
     "name": "stdout",
     "output_type": "stream",
     "text": [
      "0.5\n"
     ]
    }
   ],
   "source": [
    "# loss function\n",
    "# MSE\n",
    "def mse_loss(y_hat, y):\n",
    "    return sum([(yh - ys) ** 2 for yh, ys in zip(y_hat, y)]) / len(y_hat)\n",
    "\n",
    "\n",
    "y_hat = [0, 1, 0, 1]\n",
    "y = [1, 1, 0, 0]\n",
    "print(mse_loss(y_hat, y))"
   ]
  },
  {
   "cell_type": "code",
   "execution_count": 451,
   "metadata": {},
   "outputs": [
    {
     "name": "stdout",
     "output_type": "stream",
     "text": [
      "tensor(0.5000)\n"
     ]
    }
   ],
   "source": [
    "mse = torch.nn.MSELoss()\n",
    "\n",
    "predicted = torch.tensor([0, 1, 0, 1], dtype=torch.float32)\n",
    "target = torch.tensor([1, 1, 0, 0], dtype=torch.float32)\n",
    "\n",
    "print(mse(predicted, target))"
   ]
  },
  {
   "cell_type": "code",
   "execution_count": 525,
   "metadata": {},
   "outputs": [
    {
     "data": {
      "text/plain": [
       "1.921617268727721"
      ]
     },
     "execution_count": 525,
     "metadata": {},
     "output_type": "execute_result"
    }
   ],
   "source": [
    "np.random.normal(2, 0.1)"
   ]
  },
  {
   "cell_type": "code",
   "execution_count": 650,
   "metadata": {},
   "outputs": [
    {
     "name": "stdout",
     "output_type": "stream",
     "text": [
      "[4.834639413753152, 8.23340335448932, 10.71449034825963, 14.146306711600428]\n"
     ]
    },
    {
     "data": {
      "text/plain": [
       "<matplotlib.collections.PathCollection at 0x17c9d28e0>"
      ]
     },
     "execution_count": 650,
     "metadata": {},
     "output_type": "execute_result"
    },
    {
     "data": {
      "image/png": "[encoded data removed]",
      "text/plain": [
       "<Figure size 640x480 with 1 Axes>"
      ]
     },
     "metadata": {},
     "output_type": "display_data"
    }
   ],
   "source": [
    "# linear regression with 1 input\n",
    "w = Value(1.0, label='w')\n",
    "b = Value(0, label='b')\n",
    "\n",
    "w_gt = 3.0\n",
    "b_gt = 2.0\n",
    "\n",
    "X = [i for i in range(1, 5)]\n",
    "y = [ w_gt * x + b_gt + np.random.normal(0, 0.1) for x in X]\n",
    "\n",
    "print(y)\n",
    "plt.scatter(X, y)\n"
   ]
  },
  {
   "cell_type": "code",
   "execution_count": 677,
   "metadata": {},
   "outputs": [
    {
     "name": "stdout",
     "output_type": "stream",
     "text": [
      "Value(data: 0.04370510313830174)\n",
      "Value(data: 0.043705100355698814)\n",
      "Value(data: 0.043705097737218444)\n",
      "Value(data: 0.043705095273180665)\n",
      "Value(data: 0.04370509295447606)\n",
      "Value(data: 0.043705090772532484)\n",
      "Value(data: 0.0437050887192837)\n",
      "Value(data: 0.04370508678713908)\n",
      "Value(data: 0.04370508496895565)\n",
      "Value(data: 0.043705083258011986)\n"
     ]
    }
   ],
   "source": [
    "def forward(X):\n",
    "    return [w * x + b for x in X]\n",
    "\n",
    "def training_step():\n",
    "    lr = 0.1\n",
    "\n",
    "    y_hat = forward(X)\n",
    "    loss = mse_loss(y_hat, y)\n",
    "    print(loss)\n",
    "\n",
    "    w._zero_grad()\n",
    "    b._zero_grad()\n",
    "\n",
    "    loss.backward()\n",
    "\n",
    "    w.data -= lr * w.grad\n",
    "    b.data -= lr * b.grad\n",
    "\n",
    "for i in range(10):\n",
    "    training_step()"
   ]
  },
  {
   "cell_type": "code",
   "execution_count": 678,
   "metadata": {},
   "outputs": [
    {
     "name": "stdout",
     "output_type": "stream",
     "text": [
      "Value(data: 3.041742277017625) Value(data: 1.8777955573692888)\n"
     ]
    },
    {
     "data": {
      "text/plain": [
       "<matplotlib.collections.PathCollection at 0x179bacc40>"
      ]
     },
     "execution_count": 678,
     "metadata": {},
     "output_type": "execute_result"
    },
    {
     "data": {
      "image/png": "[encoded data removed]",
      "text/plain": [
       "<Figure size 640x480 with 1 Axes>"
      ]
     },
     "metadata": {},
     "output_type": "display_data"
    }
   ],
   "source": [
    "y_hat = forward(X)\n",
    "\n",
    "print(w, b)\n",
    "\n",
    "plt.scatter(X, [yh.data for yh in y_hat])"
   ]
  },
  {
   "cell_type": "code",
   "execution_count": 752,
   "metadata": {},
   "outputs": [
    {
     "name": "stdout",
     "output_type": "stream",
     "text": [
      "[Value(data: -0.9999999958776927), Value(data: 0.9999999999999966), Value(data: -0.9999999997947624), Value(data: -0.9999999999999312)]\n"
     ]
    }
   ],
   "source": [
    "# Linear regression with 3 input features, with tanh activation function\n",
    "\n",
    "\n",
    "w0 = Value(-2.0, label='w0')\n",
    "w1 = Value(1.0, label='w1')\n",
    "w2 = Value(3.0, label='w2')\n",
    "b = Value(0, label='b')\n",
    "\n",
    "W = [w0, w1, w2]\n",
    "\n",
    "w0gt = Value(1.0, label='w0gt')\n",
    "w1gt = Value(3.0, label='w1gt')\n",
    "w2gt = Value(-2.0, label='w2gt')\n",
    "bgt = Value(-3.0, label='bgt')\n",
    "\n",
    "W_gt = [w0gt, w1gt, w2gt]\n",
    "\n",
    "\n",
    "# def forward(x, W, b):\n",
    "#     o = W[0] * x[0] + W[1] * x[1] + W[2] * x[2] + b\n",
    "#     return tanh(o)\n",
    "\n",
    "def forward(x, W, b):\n",
    "    return tanh(W[0] * x[0] + W[1] * x[1] + W[2] * x[2] + b)\n",
    "\n",
    "\n",
    "X = [[2.0, -1.0, 3.0], [1.0, 5.0, -2.0], [1.0, -0.5, 4.0], [-1.0, -2.5, 2.0]]\n",
    "y = [forward(x, W_gt, bgt) for x in X]\n",
    "\n",
    "print(y)\n",
    "\n",
    "# for x in X:\n",
    "#     y.append(forward(x, W_gt, bgt))\n",
    "# print(y)"
   ]
  },
  {
   "cell_type": "code",
   "execution_count": 749,
   "metadata": {},
   "outputs": [
    {
     "name": "stdout",
     "output_type": "stream",
     "text": [
      "loss: 3.994356861654196\n",
      "loss: 3.9940203164497206\n",
      "loss: 3.9936392854210707\n",
      "loss: 3.993204379432906\n",
      "loss: 3.9927033957833107\n",
      "loss: 3.9921201907624364\n",
      "loss: 3.9914329689038537\n",
      "loss: 3.9906116076112768\n",
      "loss: 3.9896133249667973\n",
      "loss: 3.988375373746443\n",
      "loss: 3.9868021141657737\n",
      "loss: 3.9847407835927737\n",
      "loss: 3.9819327674770233\n",
      "loss: 3.9779065903500785\n",
      "loss: 3.9717148136008724\n",
      "loss: 3.961182208761264\n",
      "loss: 3.940257925676912\n",
      "loss: 3.88637909820074\n",
      "loss: 3.671036910999238\n",
      "loss: 3.0273396948162956\n",
      "loss: 3.000869728455128\n",
      "loss: 2.9960265176439216\n",
      "loss: 2.9932334690448004\n",
      "loss: 2.9911665675324572\n",
      "loss: 2.989412028688991\n",
      "loss: 2.987783833653534\n",
      "loss: 2.9861747993487366\n",
      "loss: 2.9845078902609323\n",
      "loss: 2.982715096001428\n",
      "loss: 2.98072498989819\n",
      "loss: 2.9784521484963196\n",
      "loss: 2.9757845645803345\n",
      "loss: 2.9725650263015373\n",
      "loss: 2.968559895083111\n",
      "loss: 2.963402075219749\n",
      "loss: 2.956478385844954\n",
      "loss: 2.946687043658091\n",
      "loss: 2.9318576450455054\n",
      "loss: 2.907166686017301\n",
      "loss: 2.8600060396227636\n",
      "loss: 2.749710976465286\n",
      "loss: 2.4273497986089967\n",
      "loss: 1.8138529239452224\n",
      "loss: 1.4177063164519084\n",
      "loss: 1.0803131201050469\n",
      "loss: 1.0302647849309268\n",
      "loss: 1.016780448386068\n",
      "loss: 1.0100741165135283\n",
      "loss: 1.0058566881664412\n",
      "loss: 1.0028175656715568\n",
      "loss: 1.0004106594157467\n",
      "loss: 0.9983609619542049\n",
      "loss: 0.9965084040060925\n",
      "loss: 0.994746476354393\n",
      "loss: 0.9929936081647341\n",
      "loss: 0.9911771718540301\n",
      "loss: 0.9892221028193382\n",
      "loss: 0.9870399300244925\n",
      "loss: 0.9845147353653144\n",
      "loss: 0.9814812737122655\n",
      "loss: 0.9776863298248945\n",
      "loss: 0.9727137210004008\n",
      "loss: 0.9658248032831163\n",
      "loss: 0.955581683116221\n",
      "loss: 0.9388322634484948\n",
      "loss: 0.9074702157360883\n",
      "loss: 0.8356283876091382\n",
      "loss: 0.6211943709503475\n",
      "loss: 0.12422063005501362\n",
      "loss: 0.02072799063251317\n",
      "loss: 0.013200215187127776\n",
      "loss: 0.00973255619094985\n",
      "loss: 0.007715412031800965\n",
      "loss: 0.006391574565685303\n",
      "loss: 0.0054548086306962056\n",
      "loss: 0.004756638277161028\n",
      "loss: 0.004216096302616696\n",
      "loss: 0.003785192749403958\n",
      "loss: 0.0034336488007760597\n",
      "loss: 0.003141405149139235\n",
      "loss: 0.002894641224751848\n",
      "loss: 0.002683522669240895\n",
      "loss: 0.0025008598999128493\n",
      "loss: 0.002341274620318625\n",
      "loss: 0.0022006630386010076\n",
      "loss: 0.002075839390835719\n",
      "loss: 0.0019642928187599655\n",
      "loss: 0.0018640176467130622\n",
      "loss: 0.0017733924338541077\n",
      "loss: 0.0016910921907442188\n",
      "loss: 0.0016160236118916277\n",
      "loss: 0.0015472765773575493\n",
      "loss: 0.001484087346575099\n",
      "loss: 0.0014258102824996229\n",
      "loss: 0.001371895885237068\n",
      "loss: 0.0013218735514854436\n",
      "loss: 0.0012753379147273335\n",
      "loss: 0.0012319379276093429\n",
      "loss: 0.0011913680651230501\n",
      "loss: 0.001153361183081389\n"
     ]
    }
   ],
   "source": [
    "def training_step():\n",
    "    y_hat = []\n",
    "\n",
    "    for x in X:\n",
    "        y_hat.append(forward(x, W, b))\n",
    "\n",
    "    loss = mse_loss(y_hat, y)\n",
    "\n",
    "    print(f'loss: {loss.data}')\n",
    "\n",
    "    for w in W:\n",
    "        w._zero_grad()\n",
    "    b._zero_grad()\n",
    "\n",
    "\n",
    "    loss.backward()\n",
    "\n",
    "    # for p in params:\n",
    "    #     print(f'{p.label}.grad: {p.grad}')\n",
    "\n",
    "    for w in W:\n",
    "        w.data -= 0.1 * w.grad\n",
    "    b.data -= 0.1 * b.grad\n",
    "\n",
    "\n",
    "for i in range(100):\n",
    "    training_step()"
   ]
  },
  {
   "cell_type": "code",
   "execution_count": 750,
   "metadata": {},
   "outputs": [
    {
     "name": "stdout",
     "output_type": "stream",
     "text": [
      "Value(data: -0.9999859410035564)\n",
      "Value(data: 0.9999999739971578)\n",
      "Value(data: -0.9331543002148442)\n",
      "Value(data: -0.9984563133235667)\n"
     ]
    }
   ],
   "source": [
    "for x in X:\n",
    "    print(forward(x, W, b))"
   ]
  },
  {
   "cell_type": "markdown",
   "metadata": {},
   "source": [
    "We don't have enough training example to learn a non-linear function correctly"
   ]
  },
  {
   "cell_type": "code",
   "execution_count": 751,
   "metadata": {},
   "outputs": [
    {
     "name": "stdout",
     "output_type": "stream",
     "text": [
      "[Value(data: -2.3091308121055474), Value(data: 2.6363741175749107), Value(data: 0.6231155674939913)] Value(data: -0.5474050616267833)\n"
     ]
    }
   ],
   "source": [
    "print(W, b)"
   ]
  },
  {
   "cell_type": "code",
   "execution_count": 727,
   "metadata": {},
   "outputs": [
    {
     "name": "stdout",
     "output_type": "stream",
     "text": [
      "Value(data: -0.9640275800758168)\n",
      "Value(data: 3.8574043352984693)\n",
      "-0.5550406742668854\n",
      "0.2775203371334427\n",
      "-0.2775203371334427\n",
      "-0.2775203371334427\n"
     ]
    }
   ],
   "source": [
    "w0 = Value(-2.0, label='w0')\n",
    "w1 = Value(1.0, label='w1')\n",
    "w2 = Value(3.0, label='w2')\n",
    "b = Value(0, label='b')\n",
    "\n",
    "x = [2.0, -1.0, 1.0]\n",
    "\n",
    "y_hat = tanh(w0 * x[0] + w1 * x[1] + w2 * x[2] + b)\n",
    "y = 1.0\n",
    "\n",
    "loss = mse_loss([y_hat], [y])\n",
    "loss.backward()\n",
    "# y_hat.backward()\n",
    "\n",
    "print(y_hat)\n",
    "print(loss)\n",
    "print(w0.grad)\n",
    "print(w1.grad)\n",
    "print(w2.grad)\n",
    "print(b.grad)"
   ]
  },
  {
   "cell_type": "code",
   "execution_count": 726,
   "metadata": {},
   "outputs": [
    {
     "name": "stdout",
     "output_type": "stream",
     "text": [
      "tensor(-0.9640, grad_fn=<TanhBackward0>)\n",
      "tensor(3.8574, grad_fn=<MseLossBackward0>)\n",
      "tensor(-0.5550)\n",
      "tensor(0.2775)\n",
      "tensor(-0.2775)\n",
      "tensor(-0.2775)\n"
     ]
    }
   ],
   "source": [
    "w0t = torch.tensor(-2.0, dtype=torch.float, requires_grad=True)\n",
    "w1t = torch.tensor(1.0, dtype=torch.float, requires_grad=True)\n",
    "w2t = torch.tensor(3.0, dtype=torch.float, requires_grad=True)\n",
    "bt = torch.tensor(0, dtype=torch.float, requires_grad=True)\n",
    "\n",
    "x = [2.0, -1.0, 1.0]\n",
    "\n",
    "y_hat_t = torch.tanh(w0t * x[0] + w1t * x[1] + w2t * x[2] + bt)\n",
    "y_t = torch.tensor(1.0, dtype=torch.float)\n",
    "\n",
    "loss_t = torch.nn.MSELoss()(y_hat_t, y_t)\n",
    "loss_t.backward()\n",
    "# y_hat_t.backward()\n",
    "\n",
    "print(y_hat_t)\n",
    "print(loss_t)\n",
    "print(w0t.grad)\n",
    "print(w1t.grad)\n",
    "print(w2t.grad)\n",
    "print(bt.grad)"
   ]
  },
  {
   "cell_type": "code",
   "execution_count": null,
   "metadata": {},
   "outputs": [],
   "source": [
    "w0 = Value(-2.0, label='w0')\n",
    "w1 = Value(1.0, label='w1')\n",
    "w2 = Value(3.0, label='w2')\n",
    "b = Value(0, label='b')\n",
    "\n",
    "x = [2.0, -1.0, 1.0]\n",
    "\n",
    "y_hat = tanh(w0 * x[0] + w1 * x[1] + w2 * x[2] + b)\n",
    "y = 1.0\n",
    "\n",
    "loss = mse_loss([y_hat], [y])\n",
    "loss.backward()"
   ]
  },
  {
   "cell_type": "code",
   "execution_count": 766,
   "metadata": {},
   "outputs": [],
   "source": [
    "class Neuron:\n",
    "    def __init__(self, n_input):\n",
    "        self.W = [Value(random.uniform(-1, 1)) for _ in range(n_input)]\n",
    "        self.b = Value(0)\n",
    "        self.n_input = n_input\n",
    "\n",
    "    def __call__(self, x):        \n",
    "        o = sum([ wi * xi for wi, xi in zip(x, self.W)]) + b\n",
    "        return tanh(o)\n",
    "    \n",
    "    def parameters(self):\n",
    "        return self.W + [self.b]"
   ]
  },
  {
   "cell_type": "code",
   "execution_count": 769,
   "metadata": {},
   "outputs": [
    {
     "name": "stdout",
     "output_type": "stream",
     "text": [
      "[Value(data: -0.029722512228810283), Value(data: 0.3830823495129827), Value(data: 0.2797121952173762), Value(data: 0)]\n",
      "[Value(data: -0.029722512228810283), Value(data: 0.3830823495129827), Value(data: 0.2797121952173762)]\n",
      "Value(data: 0.9179086161430178)\n"
     ]
    }
   ],
   "source": [
    "n = Neuron(3)\n",
    "print(n.parameters())\n",
    "print(n.W)\n",
    "x = [1, 2, 3]\n",
    "print(n(x))"
   ]
  },
  {
   "cell_type": "code",
   "execution_count": 776,
   "metadata": {},
   "outputs": [],
   "source": [
    "class Layer:\n",
    "    def __init__(self, n_input, n_output):\n",
    "        self.neurons = [Neuron(n_input) for _ in range(n_output)]\n",
    "        self.n_input = n_input\n",
    "        self.n_output = n_output\n",
    "\n",
    "    def __call__(self, x):\n",
    "        return [neuron(x) for neuron in self.neurons]\n",
    "    \n",
    "    def parameters(self):\n",
    "        p = []\n",
    "        for n in self.neurons:\n",
    "            p.extend(n.parameters())\n",
    "        return p"
   ]
  },
  {
   "cell_type": "code",
   "execution_count": 777,
   "metadata": {},
   "outputs": [
    {
     "name": "stdout",
     "output_type": "stream",
     "text": [
      "[Value(data: -0.5292465768230299), Value(data: -0.45734735337235155), Value(data: 0.054663748681275104), Value(data: 0.2295202354510526), Value(data: 0), Value(data: -0.6159304604044527), Value(data: 0.932222786573875), Value(data: -0.14378265290496994), Value(data: 0.25644875616704166), Value(data: 0)]\n",
      "[Value(data: -0.3468593210991216), Value(data: 0.9510786791805815)]\n"
     ]
    }
   ],
   "source": [
    "l = Layer(4, 2)\n",
    "x = [1, 2, 3, 4]\n",
    "print(l.parameters())\n",
    "print(l(x))"
   ]
  },
  {
   "cell_type": "code",
   "execution_count": 790,
   "metadata": {},
   "outputs": [],
   "source": [
    "class MLP:\n",
    "    def __init__(self, n_input, layer_sizes):\n",
    "        input = n_input\n",
    "        self.layers = []\n",
    "        for ls in layer_sizes:\n",
    "            self.layers.append(Layer(input, ls))\n",
    "            input = ls\n",
    "    \n",
    "    def __call__(self, x):\n",
    "        for l in self.layers:\n",
    "            x = l(x)\n",
    "        return x\n",
    "    \n",
    "    def parameters(self):\n",
    "        p = []\n",
    "        for l in self.layers:\n",
    "            p.extend(l.parameters())\n",
    "        return p"
   ]
  },
  {
   "cell_type": "code",
   "execution_count": 791,
   "metadata": {},
   "outputs": [
    {
     "name": "stdout",
     "output_type": "stream",
     "text": [
      "[Value(data: -0.35342652073758646)]\n",
      "[Value(data: -0.7877648150725356), Value(data: -0.1019750792326648), Value(data: -0.6138170219686252), Value(data: 0.7172706492352368), Value(data: 0), Value(data: -0.7376316014594002), Value(data: 0.5378089122398146), Value(data: -0.458007748479732), Value(data: -0.2420086655630853), Value(data: 0), Value(data: 0.1304011894168986), Value(data: 0.2964682046509186), Value(data: 0.569683208011452), Value(data: 0.9028655991010066), Value(data: 0), Value(data: 0.6822604273969564), Value(data: -0.15254434580487608), Value(data: -0.37986908545349474), Value(data: 0), Value(data: 0.24020344431697382), Value(data: 0.21835321668264673), Value(data: 0.7982944978272764), Value(data: 0), Value(data: -0.4342508056050147), Value(data: -0.8579169878553072), Value(data: 0)]\n"
     ]
    }
   ],
   "source": [
    "mlp = MLP(4, [3, 2, 1])\n",
    "x = [1, 2, 3, 4]\n",
    "print(mlp(x))\n",
    "print(mlp.parameters())"
   ]
  },
  {
   "cell_type": "code",
   "execution_count": 792,
   "metadata": {},
   "outputs": [],
   "source": [
    "xs = [\n",
    "    [2.0, 3.0, -1.0],\n",
    "    [3.0, -1.0, 0.5],\n",
    "    [0.5, 1.0, 1.0],\n",
    "    [1.0, 1.0, -1.0],\n",
    "]\n",
    "ys = [1.0, -1.0, -1.0, 1.0]  # desired targets"
   ]
  },
  {
   "cell_type": "code",
   "execution_count": 793,
   "metadata": {},
   "outputs": [
    {
     "name": "stdout",
     "output_type": "stream",
     "text": [
      "0 4.535558432159193\n",
      "1 3.1527115071848946\n",
      "2 1.8279343739573233\n",
      "3 0.45339187321411\n",
      "4 0.20997757559349564\n",
      "5 0.13880722696019338\n",
      "6 0.1031265886020224\n",
      "7 0.08170431953179544\n",
      "8 0.06744687241091532\n",
      "9 0.057294089023589165\n",
      "10 0.04970851010766776\n",
      "11 0.04383343813000716\n",
      "12 0.03915404175653436\n",
      "13 0.035342521118364154\n",
      "14 0.032180387263016696\n",
      "15 0.029516492404243568\n",
      "16 0.027242998640872613\n",
      "17 0.025280939781660464\n",
      "18 0.02357119024138499\n",
      "19 0.02206861923821759\n",
      "20 0.02073819352547801\n",
      "21 0.01955231154913064\n",
      "22 0.01848893828301778\n",
      "23 0.01753027387756332\n",
      "24 0.016661786212583136\n",
      "25 0.015871496513475115\n",
      "26 0.01514944413165474\n",
      "27 0.014487280242817691\n",
      "28 0.01387795568558618\n",
      "29 0.013315478476592084\n",
      "30 0.012794723536093679\n",
      "31 0.012311281983606264\n",
      "32 0.011861340739840985\n",
      "33 0.011441585566803525\n",
      "34 0.011049122398929781\n",
      "35 0.010681413069137623\n",
      "36 0.0103362224529934\n",
      "37 0.01001157473667882\n",
      "38 0.009705717025961805\n",
      "39 0.00941708890018886\n",
      "40 0.009144296810293493\n",
      "41 0.008886092446540737\n",
      "42 0.0086413543772985\n",
      "43 0.008409072397039837\n",
      "44 0.00818833412926529\n",
      "45 0.007978313514946158\n",
      "46 0.007778260884573304\n",
      "47 0.007587494365835049\n",
      "48 0.007405392422292246\n",
      "49 0.007231387353432787\n",
      "50 0.007064959614907097\n",
      "51 0.0069056328409279385\n",
      "52 0.0067529694698057405\n",
      "53 0.006606566889213622\n",
      "54 0.006466054030684761\n",
      "55 0.006331088353548573\n",
      "56 0.0062013531674250544\n",
      "57 0.006076555249843561\n",
      "58 0.005956422721796699\n",
      "59 0.005840703149292279\n",
      "60 0.0057291618434012585\n",
      "61 0.005621580335052888\n",
      "62 0.005517755004016312\n",
      "63 0.005417495844222221\n",
      "64 0.005320625349898059\n",
      "65 0.005226977508974124\n",
      "66 0.00513639689192452\n",
      "67 0.005048737825672108\n",
      "68 0.004963863643454969\n",
      "69 0.004881646002644668\n",
      "70 0.004801964263457436\n",
      "71 0.0047247049223232635\n",
      "72 0.004649761094395693\n",
      "73 0.004577032040312044\n",
      "74 0.004506422732861056\n",
      "75 0.004437843459694189\n",
      "76 0.004371209458638807\n",
      "77 0.004306440582540324\n",
      "78 0.004243460990887198\n",
      "79 0.004182198865760169\n",
      "80 0.0041225861499008505\n",
      "81 0.004064558304920551\n",
      "82 0.00400805408786935\n",
      "83 0.003953015344562549\n",
      "84 0.0038993868182198724\n",
      "85 0.003847115972112485\n",
      "86 0.0037961528250387948\n",
      "87 0.0037464497985616593\n",
      "88 0.0036979615750397754\n",
      "89 0.0036506449655755173\n",
      "90 0.0036044587870826582\n",
      "91 0.0035593637477486866\n",
      "92 0.0035153223402322174\n",
      "93 0.0034722987419941245\n",
      "94 0.0034302587222137986\n",
      "95 0.0033891695547897307\n",
      "96 0.0033489999369662434\n",
      "97 0.003309719913167688\n",
      "98 0.003271300803655986\n",
      "99 0.003233715137659786\n"
     ]
    }
   ],
   "source": [
    "n = MLP(3, [4, 4, 1])\n",
    "\n",
    "for k in range(100):\n",
    "\n",
    "  # forward pass\n",
    "  ypred = [n(x) for x in xs]\n",
    "  loss = sum((yout[0] - ygt)**2 for ygt, yout in zip(ys, ypred))\n",
    "\n",
    "  # backward pass\n",
    "  for p in n.parameters():\n",
    "    p.grad = 0.0\n",
    "  loss.backward()\n",
    "\n",
    "  # update\n",
    "  for p in n.parameters():\n",
    "    p.data += -0.1 * p.grad\n",
    "\n",
    "  print(k, loss.data)"
   ]
  },
  {
   "cell_type": "code",
   "execution_count": 794,
   "metadata": {},
   "outputs": [
    {
     "data": {
      "text/plain": [
       "[[Value(data: 0.9792908093800771)],\n",
       " [Value(data: -0.9628117837872897)],\n",
       " [Value(data: -0.9736613410768513)],\n",
       " [Value(data: 0.9730156307730895)]]"
      ]
     },
     "execution_count": 794,
     "metadata": {},
     "output_type": "execute_result"
    }
   ],
   "source": [
    "ypred"
   ]
  }
 ],
 "metadata": {
  "kernelspec": {
   "display_name": "d2l",
   "language": "python",
   "name": "python3"
  },
  "language_info": {
   "codemirror_mode": {
    "name": "ipython",
    "version": 3
   },
   "file_extension": ".py",
   "mimetype": "text/x-python",
   "name": "python",
   "nbconvert_exporter": "python",
   "pygments_lexer": "ipython3",
   "version": "3.9.19"
  }
 },
 "nbformat": 4,
 "nbformat_minor": 2
}
